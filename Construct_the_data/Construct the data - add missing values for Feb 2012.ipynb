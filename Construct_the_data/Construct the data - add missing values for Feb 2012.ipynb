{
 "cells": [
  {
   "cell_type": "code",
   "execution_count": 1,
   "metadata": {},
   "outputs": [],
   "source": [
    "import findspark\n",
    "findspark.init('/home/ubuntu/spark-2.1.1-bin-hadoop2.7')\n",
    "import pyspark\n",
    "from pyspark.sql import SparkSession\n",
    "spark = SparkSession.builder.appName('Construct_the_data_add_missing_values').getOrCreate()\n",
    "df = spark.read.csv('../Bike-Sharing-Dataset-hour.csv', header=True, inferSchema=True)"
   ]
  },
  {
   "cell_type": "code",
   "execution_count": 2,
   "metadata": {
    "scrolled": false
   },
   "outputs": [],
   "source": [
    "df.createOrReplaceTempView(\"dataset\")\n",
    "#query to retrieve the data for the specific year and month\n",
    "feb2012_df = spark.sql(\"SELECT instant, dteday, yr, mnth, hr FROM dataset WHERE yr = 1 AND mnth = 2 ORDER BY instant \")\n",
    "\n",
    "listHrs = [-1] * 696 # define the full range of the hours\n",
    "listDate = [-1] * 696 # define the full range of the date based on the hours\n",
    "listMissingHrs = [] # define the missing hours\n",
    "listMissingHrsOfDate = [] # define the date for the missing hours\n",
    "listMissingWeekday = [] # define the weekday for the missing hours\n",
    "listMissingWorkingday = [] # define the workingday for the missing hours\n",
    "\n",
    "x = 0\n",
    "for row in feb2012_df.collect(): # for loop to get the resultset into the list\n",
    "    listDate[x] = str(row[1])\n",
    "    listHrs[x] = str(row[4])\n",
    "    x += 1"
   ]
  },
  {
   "cell_type": "code",
   "execution_count": 3,
   "metadata": {
    "scrolled": true
   },
   "outputs": [],
   "source": [
    "from datetime import datetime\n",
    "a = 0\n",
    "strHr = ''\n",
    "for i in range(1, 30): # there are total days in the specific year and month starting at 1st day\n",
    "    for j in range(0, 24): # there are 24 hours a day starting at 0 hour\n",
    "        if i == int(listDate[a][8:10]) and j == int(listHrs[a]): # pass if date and hour are in the listHrs and listDate\n",
    "            a += 1\n",
    "        else: # add values into listMissingHrs and listMissingHrsOfDate if hour and hour of date are missing\n",
    "            strHr = str(i)\n",
    "            if i < 10:\n",
    "                strHr = '0' + strHr\n",
    "            strDate = \"2012-02-\"+strHr\n",
    "            listMissingHrsOfDate.append(strDate)\n",
    "            listMissingHrs.append(j)\n",
    "            \n",
    "            strWeekday = datetime.strptime(strDate, '%Y-%m-%d') # convert string time to date format\n",
    "            listMissingWeekday.append(strWeekday.strftime(\"%w\")) # retrieve the weekday of the date\n",
    "            if strWeekday.strftime(\"%w\") == '0' or strWeekday.strftime(\"%w\") == '6': # workingday is 0 if Sun or Sat\n",
    "                listMissingWorkingday.append(0)\n",
    "            else: # workingday is 1 if it's not Sun or Sat\n",
    "                listMissingWorkingday.append(1)"
   ]
  },
  {
   "cell_type": "code",
   "execution_count": 4,
   "metadata": {},
   "outputs": [],
   "source": [
    "import csv\n",
    "with open('../Bike-Sharing-Dataset-hour.csv','a') as fd: # open the existing csv file to be edited\n",
    "    for m in range(len(listMissingHrsOfDate)): # for loop the list and add the missing values\n",
    "        fd.write(\"0,\"+str(listMissingHrsOfDate[m])+\",1,1,2,\"+str(listMissingHrs[m])+\",\"\n",
    "                 \"0,\"+str(listMissingWeekday[m])+\",\"+str(listMissingWorkingday[m])+\",\"\n",
    "                 \"2,0.4969,0.4757,0.6272,0.1900,35,153,188\\n\")"
   ]
  },
  {
   "cell_type": "code",
   "execution_count": null,
   "metadata": {},
   "outputs": [],
   "source": []
  }
 ],
 "metadata": {
  "kernelspec": {
   "display_name": "Python 3",
   "language": "python",
   "name": "python3"
  },
  "language_info": {
   "codemirror_mode": {
    "name": "ipython",
    "version": 3
   },
   "file_extension": ".py",
   "mimetype": "text/x-python",
   "name": "python",
   "nbconvert_exporter": "python",
   "pygments_lexer": "ipython3",
   "version": "3.5.2"
  }
 },
 "nbformat": 4,
 "nbformat_minor": 2
}
