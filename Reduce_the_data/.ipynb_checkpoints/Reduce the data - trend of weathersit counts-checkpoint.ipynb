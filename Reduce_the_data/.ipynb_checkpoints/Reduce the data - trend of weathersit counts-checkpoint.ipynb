{
 "cells": [
  {
   "cell_type": "code",
   "execution_count": 1,
   "metadata": {},
   "outputs": [],
   "source": [
    "import findspark\n",
    "findspark.init('/home/ubuntu/spark-2.1.1-bin-hadoop2.7')\n",
    "import pyspark\n",
    "from pyspark.sql import SparkSession\n",
    "spark = SparkSession.builder.appName('Reduce_the_data_trend_weathersit_counts').getOrCreate()\n",
    "\n",
    "df = spark.read.csv('../Bike-Sharing-Dataset-hour_new.csv',header=True,inferSchema=True)"
   ]
  },
  {
   "cell_type": "code",
   "execution_count": 5,
   "metadata": {},
   "outputs": [
    {
     "data": {
      "text/html": [
       "<div>\n",
       "<style scoped>\n",
       "    .dataframe tbody tr th:only-of-type {\n",
       "        vertical-align: middle;\n",
       "    }\n",
       "\n",
       "    .dataframe tbody tr th {\n",
       "        vertical-align: top;\n",
       "    }\n",
       "\n",
       "    .dataframe thead th {\n",
       "        text-align: right;\n",
       "    }\n",
       "</style>\n",
       "<table border=\"1\" class=\"dataframe\">\n",
       "  <thead>\n",
       "    <tr style=\"text-align: right;\">\n",
       "      <th></th>\n",
       "      <th>0</th>\n",
       "      <th>1</th>\n",
       "      <th>2</th>\n",
       "      <th>3</th>\n",
       "    </tr>\n",
       "  </thead>\n",
       "  <tbody>\n",
       "    <tr>\n",
       "      <th>Weathersit</th>\n",
       "      <td>4</td>\n",
       "      <td>3</td>\n",
       "      <td>2</td>\n",
       "      <td>1</td>\n",
       "    </tr>\n",
       "    <tr>\n",
       "      <th>Average Casual</th>\n",
       "      <td>2.67</td>\n",
       "      <td>16.06</td>\n",
       "      <td>29.78</td>\n",
       "      <td>40.55</td>\n",
       "    </tr>\n",
       "    <tr>\n",
       "      <th>Average Registered</th>\n",
       "      <td>71.67</td>\n",
       "      <td>95.52</td>\n",
       "      <td>145.83</td>\n",
       "      <td>164.32</td>\n",
       "    </tr>\n",
       "    <tr>\n",
       "      <th>Average CNT</th>\n",
       "      <td>74.33</td>\n",
       "      <td>111.58</td>\n",
       "      <td>175.62</td>\n",
       "      <td>204.87</td>\n",
       "    </tr>\n",
       "  </tbody>\n",
       "</table>\n",
       "</div>"
      ],
      "text/plain": [
       "                        0       1       2       3\n",
       "Weathersit              4       3       2       1\n",
       "Average Casual       2.67   16.06   29.78   40.55\n",
       "Average Registered  71.67   95.52  145.83  164.32\n",
       "Average CNT         74.33  111.58  175.62  204.87"
      ]
     },
     "execution_count": 5,
     "metadata": {},
     "output_type": "execute_result"
    }
   ],
   "source": [
    "import pandas as pd\n",
    "from pyspark.sql.functions import *\n",
    "\n",
    "group_df = df.select('weathersit','casual','registered','cnt')\n",
    "group_df = group_df.groupBy('weathersit').mean()\n",
    "group_df = group_df.select('weathersit',\n",
    "                            format_number('avg(casual)',2),\n",
    "                            format_number('avg(registered)',2),\n",
    "                            format_number('avg(cnt)',2))\n",
    "group_df = group_df.select(col('weathersit').alias('Weathersit'),\n",
    "                           col('format_number(avg(casual), 2)').alias('Average Casual'),\n",
    "                           col('format_number(avg(registered), 2)').alias('Average Registered'),\n",
    "                           col('format_number(avg(cnt), 2)').alias('Average CNT')).orderBy('avg(cnt)')\n",
    "pd.DataFrame(group_df.take(group_df.count()), columns=group_df.columns).transpose()"
   ]
  },
  {
   "cell_type": "code",
   "execution_count": 6,
   "metadata": {},
   "outputs": [
    {
     "data": {
      "image/png": "[encoded data removed]",
      "text/plain": [
       "<Figure size 720x360 with 1 Axes>"
      ]
     },
     "metadata": {},
     "output_type": "display_data"
    }
   ],
   "source": [
    "import matplotlib.pyplot as plt\n",
    "import numpy as np\n",
    "\n",
    "group_df = group_df.toPandas()\n",
    "\n",
    "plt.bar(group_df['Weathersit'], group_df['Average CNT'], color='navy')\n",
    "#set y ticks based on above average cnt results\n",
    "plt.yticks(np.arange(4), ('74.33', '111.58', '175.62', '204.87'))\n",
    "plt.legend(['Avg CNT'])\n",
    "plt.xlabel('weathersit')\n",
    "plt.ylabel('counts')\n",
    "plt.title('weathersit counts')\n",
    "plt.show()"
   ]
  },
  {
   "cell_type": "code",
   "execution_count": 4,
   "metadata": {},
   "outputs": [],
   "source": [
    "plt.rcParams['figure.figsize'] = (10,5)"
   ]
  },
  {
   "cell_type": "code",
   "execution_count": null,
   "metadata": {},
   "outputs": [],
   "source": []
  }
 ],
 "metadata": {
  "kernelspec": {
   "display_name": "Python 3",
   "language": "python",
   "name": "python3"
  },
  "language_info": {
   "codemirror_mode": {
    "name": "ipython",
    "version": 3
   },
   "file_extension": ".py",
   "mimetype": "text/x-python",
   "name": "python",
   "nbconvert_exporter": "python",
   "pygments_lexer": "ipython3",
   "version": "3.5.2"
  }
 },
 "nbformat": 4,
 "nbformat_minor": 2
}
