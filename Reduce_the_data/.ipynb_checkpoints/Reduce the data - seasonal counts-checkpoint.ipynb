{
 "cells": [
  {
   "cell_type": "code",
   "execution_count": 18,
   "metadata": {},
   "outputs": [],
   "source": [
    "import findspark\n",
    "findspark.init('/home/ubuntu/spark-2.1.1-bin-hadoop2.7')\n",
    "import pyspark\n",
    "from pyspark.sql import SparkSession\n",
    "spark = SparkSession.builder.appName('Reduce_the_data_seasonal_counts').getOrCreate()\n",
    "\n",
    "df = spark.read.csv('../Bike-Sharing-Dataset-hour_new.csv',header=True,inferSchema=True)"
   ]
  },
  {
   "cell_type": "code",
   "execution_count": 25,
   "metadata": {},
   "outputs": [
    {
     "data": {
      "text/html": [
       "<div>\n",
       "<style scoped>\n",
       "    .dataframe tbody tr th:only-of-type {\n",
       "        vertical-align: middle;\n",
       "    }\n",
       "\n",
       "    .dataframe tbody tr th {\n",
       "        vertical-align: top;\n",
       "    }\n",
       "\n",
       "    .dataframe thead th {\n",
       "        text-align: right;\n",
       "    }\n",
       "</style>\n",
       "<table border=\"1\" class=\"dataframe\">\n",
       "  <thead>\n",
       "    <tr style=\"text-align: right;\">\n",
       "      <th></th>\n",
       "      <th>Season</th>\n",
       "      <th>Average Casual</th>\n",
       "      <th>Average Registered</th>\n",
       "      <th>Average CNT</th>\n",
       "    </tr>\n",
       "  </thead>\n",
       "  <tbody>\n",
       "    <tr>\n",
       "      <th>0</th>\n",
       "      <td>Winter</td>\n",
       "      <td>14.77</td>\n",
       "      <td>98.13</td>\n",
       "      <td>112.90</td>\n",
       "    </tr>\n",
       "    <tr>\n",
       "      <th>1</th>\n",
       "      <td>Spring</td>\n",
       "      <td>46.15</td>\n",
       "      <td>162.18</td>\n",
       "      <td>208.33</td>\n",
       "    </tr>\n",
       "    <tr>\n",
       "      <th>2</th>\n",
       "      <td>Summer</td>\n",
       "      <td>50.23</td>\n",
       "      <td>185.61</td>\n",
       "      <td>235.85</td>\n",
       "    </tr>\n",
       "    <tr>\n",
       "      <th>3</th>\n",
       "      <td>Autumn</td>\n",
       "      <td>30.71</td>\n",
       "      <td>168.04</td>\n",
       "      <td>198.75</td>\n",
       "    </tr>\n",
       "  </tbody>\n",
       "</table>\n",
       "</div>"
      ],
      "text/plain": [
       "   Season Average Casual Average Registered Average CNT\n",
       "0  Winter          14.77              98.13      112.90\n",
       "1  Spring          46.15             162.18      208.33\n",
       "2  Summer          50.23             185.61      235.85\n",
       "3  Autumn          30.71             168.04      198.75"
      ]
     },
     "execution_count": 25,
     "metadata": {},
     "output_type": "execute_result"
    }
   ],
   "source": [
    "import pandas as pd\n",
    "from pyspark.sql.functions import *\n",
    "\n",
    "group_df = df.select('season','casual','registered','cnt')\n",
    "group_df = group_df.groupBy('season').mean()\n",
    "group_df = group_df.select('season',\n",
    "                            format_number('avg(casual)',2),\n",
    "                            format_number('avg(registered)',2),\n",
    "                            format_number('avg(cnt)',2))\n",
    "group_df = group_df.select(col('season').alias('Season'),\n",
    "                           col('format_number(avg(casual), 2)').alias('Average Casual'),\n",
    "                           col('format_number(avg(registered), 2)').alias('Average Registered'),\n",
    "                           col('format_number(avg(cnt), 2)').alias('Average CNT')).orderBy('Season')\n",
    "group_df = group_df.withColumn('Season', when(group_df.Season == 1, 'Winter')\n",
    "                               .otherwise(when(group_df.Season == 2, 'Spring')\n",
    "                               .otherwise(when(group_df.Season == 3, 'Summer')\n",
    "                               .otherwise(when(group_df.Season == 4, 'Autumn').otherwise('Unknown')))))\n",
    "pd.DataFrame(group_df.take(group_df.count()), columns=group_df.columns)"
   ]
  },
  {
   "cell_type": "code",
   "execution_count": 26,
   "metadata": {},
   "outputs": [
    {
     "data": {
      "image/png": "[encoded data removed]",
      "text/plain": [
       "<Figure size 432x288 with 1 Axes>"
      ]
     },
     "metadata": {},
     "output_type": "display_data"
    }
   ],
   "source": [
    "import matplotlib.pyplot as plt\n",
    "\n",
    "group_df = group_df.toPandas()\n",
    "plt.bar(group_df['Season'], group_df['Average CNT'], color = 'b')\n",
    "plt.xlabel('season')\n",
    "plt.ylabel('counts')\n",
    "plt.title('seasonal counts')\n",
    "plt.show()"
   ]
  },
  {
   "cell_type": "code",
   "execution_count": null,
   "metadata": {},
   "outputs": [],
   "source": []
  }
 ],
 "metadata": {
  "kernelspec": {
   "display_name": "Python 3",
   "language": "python",
   "name": "python3"
  },
  "language_info": {
   "codemirror_mode": {
    "name": "ipython",
    "version": 3
   },
   "file_extension": ".py",
   "mimetype": "text/x-python",
   "name": "python",
   "nbconvert_exporter": "python",
   "pygments_lexer": "ipython3",
   "version": "3.5.2"
  }
 },
 "nbformat": 4,
 "nbformat_minor": 2
}
