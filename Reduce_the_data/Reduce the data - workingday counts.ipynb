{
 "cells": [
  {
   "cell_type": "code",
   "execution_count": 10,
   "metadata": {},
   "outputs": [],
   "source": [
    "import findspark\n",
    "findspark.init('/home/ubuntu/spark-2.1.1-bin-hadoop2.7')\n",
    "import pyspark\n",
    "from pyspark.sql import SparkSession\n",
    "spark = SparkSession.builder.appName('Reduce_the_data_workingday_counts').getOrCreate()\n",
    "\n",
    "df = spark.read.csv('../Bike-Sharing-Dataset-hour_new.csv',header=True,inferSchema=True)"
   ]
  },
  {
   "cell_type": "code",
   "execution_count": 14,
   "metadata": {},
   "outputs": [
    {
     "data": {
      "text/html": [
       "<div>\n",
       "<style scoped>\n",
       "    .dataframe tbody tr th:only-of-type {\n",
       "        vertical-align: middle;\n",
       "    }\n",
       "\n",
       "    .dataframe tbody tr th {\n",
       "        vertical-align: top;\n",
       "    }\n",
       "\n",
       "    .dataframe thead th {\n",
       "        text-align: right;\n",
       "    }\n",
       "</style>\n",
       "<table border=\"1\" class=\"dataframe\">\n",
       "  <thead>\n",
       "    <tr style=\"text-align: right;\">\n",
       "      <th></th>\n",
       "      <th>Workingday</th>\n",
       "      <th>Average Casual</th>\n",
       "      <th>Average Registered</th>\n",
       "      <th>Average CNT</th>\n",
       "    </tr>\n",
       "  </thead>\n",
       "  <tbody>\n",
       "    <tr>\n",
       "      <th>0</th>\n",
       "      <td>0</td>\n",
       "      <td>57.34</td>\n",
       "      <td>124.10</td>\n",
       "      <td>181.44</td>\n",
       "    </tr>\n",
       "    <tr>\n",
       "      <th>1</th>\n",
       "      <td>1</td>\n",
       "      <td>25.67</td>\n",
       "      <td>167.48</td>\n",
       "      <td>193.15</td>\n",
       "    </tr>\n",
       "  </tbody>\n",
       "</table>\n",
       "</div>"
      ],
      "text/plain": [
       "   Workingday Average Casual Average Registered Average CNT\n",
       "0           0          57.34             124.10      181.44\n",
       "1           1          25.67             167.48      193.15"
      ]
     },
     "execution_count": 14,
     "metadata": {},
     "output_type": "execute_result"
    }
   ],
   "source": [
    "import pandas as pd\n",
    "from pyspark.sql.functions import *\n",
    "\n",
    "group_df = df.select('workingday','casual','registered','cnt')\n",
    "group_df = group_df.groupBy('workingday').mean()\n",
    "group_df = group_df.select('workingday',\n",
    "                            format_number('avg(casual)',2),\n",
    "                            format_number('avg(registered)',2),\n",
    "                            format_number('avg(cnt)',2))\n",
    "group_df = group_df.select(col('workingday').alias('Workingday'),\n",
    "                           col('format_number(avg(casual), 2)').alias('Average Casual'),\n",
    "                           col('format_number(avg(registered), 2)').alias('Average Registered'),\n",
    "                           col('format_number(avg(cnt), 2)').alias('Average CNT')).orderBy('avg(cnt)')\n",
    "pd.DataFrame(group_df.take(group_df.count()), columns=group_df.columns)"
   ]
  },
  {
   "cell_type": "code",
   "execution_count": 15,
   "metadata": {},
   "outputs": [
    {
     "data": {
      "image/png": "[encoded data removed]",
      "text/plain": [
       "<Figure size 360x360 with 1 Axes>"
      ]
     },
     "metadata": {},
     "output_type": "display_data"
    }
   ],
   "source": [
    "import pandas as pd\n",
    "import matplotlib.pyplot as plt\n",
    "\n",
    "# create new datasets based on above results\n",
    "casual = pd.DataFrame({'workingday': ['1', '0'], 'cas_val': [25.67, 57.34]})\n",
    "registered = pd.DataFrame({'workingday': ['1', '0'], 'reg_val': [167.48, 124.10]})\n",
    "cnt = pd.DataFrame({'workingday': ['1', '0'], 'cnt_val': [193.15, 181.44]})\n",
    "\n",
    "cas_reg = pd.merge(casual, registered, how='outer')\n",
    "cas_reg_cnt = pd.merge(cas_reg, cnt, how='outer')\n",
    "\n",
    "ax = cas_reg_cnt[['workingday', 'cnt_val']].plot(x='workingday', linestyle='--', marker='o')\n",
    "cas_reg_cnt[['workingday', 'cas_val', 'reg_val']].plot(x='workingday', kind='bar', ax=ax)\n",
    "\n",
    "plt.xlabel('workingday (1: Workingday - 0: non-Workingday)')\n",
    "plt.ylabel('counts')\n",
    "plt.title('workingday counts')\n",
    "plt.show()\n"
   ]
  },
  {
   "cell_type": "code",
   "execution_count": 13,
   "metadata": {},
   "outputs": [],
   "source": [
    "plt.rcParams['figure.figsize'] = (5,5)"
   ]
  },
  {
   "cell_type": "code",
   "execution_count": null,
   "metadata": {},
   "outputs": [],
   "source": []
  }
 ],
 "metadata": {
  "kernelspec": {
   "display_name": "Python 3",
   "language": "python",
   "name": "python3"
  },
  "language_info": {
   "codemirror_mode": {
    "name": "ipython",
    "version": 3
   },
   "file_extension": ".py",
   "mimetype": "text/x-python",
   "name": "python",
   "nbconvert_exporter": "python",
   "pygments_lexer": "ipython3",
   "version": "3.5.2"
  }
 },
 "nbformat": 4,
 "nbformat_minor": 2
}
