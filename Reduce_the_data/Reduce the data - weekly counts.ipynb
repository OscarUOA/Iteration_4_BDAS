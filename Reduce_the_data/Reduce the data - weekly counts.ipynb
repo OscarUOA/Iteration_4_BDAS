{
 "cells": [
  {
   "cell_type": "code",
   "execution_count": 110,
   "metadata": {},
   "outputs": [],
   "source": [
    "import findspark\n",
    "findspark.init('/home/ubuntu/spark-2.1.1-bin-hadoop2.7')\n",
    "import pyspark\n",
    "from pyspark.sql import SparkSession\n",
    "spark = SparkSession.builder.appName('Reduce_the_data_weekly_counts').getOrCreate()\n",
    "\n",
    "df = spark.read.csv('../Bike-Sharing-Dataset-hour_new.csv',header=True,inferSchema=True)"
   ]
  },
  {
   "cell_type": "code",
   "execution_count": 111,
   "metadata": {},
   "outputs": [
    {
     "data": {
      "text/html": [
       "<div>\n",
       "<style scoped>\n",
       "    .dataframe tbody tr th:only-of-type {\n",
       "        vertical-align: middle;\n",
       "    }\n",
       "\n",
       "    .dataframe tbody tr th {\n",
       "        vertical-align: top;\n",
       "    }\n",
       "\n",
       "    .dataframe thead th {\n",
       "        text-align: right;\n",
       "    }\n",
       "</style>\n",
       "<table border=\"1\" class=\"dataframe\">\n",
       "  <thead>\n",
       "    <tr style=\"text-align: right;\">\n",
       "      <th></th>\n",
       "      <th>0</th>\n",
       "      <th>1</th>\n",
       "      <th>2</th>\n",
       "      <th>3</th>\n",
       "      <th>4</th>\n",
       "      <th>5</th>\n",
       "      <th>6</th>\n",
       "    </tr>\n",
       "  </thead>\n",
       "  <tbody>\n",
       "    <tr>\n",
       "      <th>Weekday</th>\n",
       "      <td>Sunday</td>\n",
       "      <td>Monday</td>\n",
       "      <td>Tuesday</td>\n",
       "      <td>Wednesday</td>\n",
       "      <td>Thursday</td>\n",
       "      <td>Friday</td>\n",
       "      <td>Saturday</td>\n",
       "    </tr>\n",
       "    <tr>\n",
       "      <th>Average Casual</th>\n",
       "      <td>56.01</td>\n",
       "      <td>28.66</td>\n",
       "      <td>23.78</td>\n",
       "      <td>23.26</td>\n",
       "      <td>24.97</td>\n",
       "      <td>31.47</td>\n",
       "      <td>61.16</td>\n",
       "    </tr>\n",
       "    <tr>\n",
       "      <th>Average Registered</th>\n",
       "      <td>121.53</td>\n",
       "      <td>155.16</td>\n",
       "      <td>167.41</td>\n",
       "      <td>167.85</td>\n",
       "      <td>171.38</td>\n",
       "      <td>164.64</td>\n",
       "      <td>129.04</td>\n",
       "    </tr>\n",
       "    <tr>\n",
       "      <th>Average CNT</th>\n",
       "      <td>177.54</td>\n",
       "      <td>183.81</td>\n",
       "      <td>191.18</td>\n",
       "      <td>191.10</td>\n",
       "      <td>196.35</td>\n",
       "      <td>196.11</td>\n",
       "      <td>190.20</td>\n",
       "    </tr>\n",
       "  </tbody>\n",
       "</table>\n",
       "</div>"
      ],
      "text/plain": [
       "                         0       1        2          3         4       5  \\\n",
       "Weekday             Sunday  Monday  Tuesday  Wednesday  Thursday  Friday   \n",
       "Average Casual       56.01   28.66    23.78      23.26     24.97   31.47   \n",
       "Average Registered  121.53  155.16   167.41     167.85    171.38  164.64   \n",
       "Average CNT         177.54  183.81   191.18     191.10    196.35  196.11   \n",
       "\n",
       "                           6  \n",
       "Weekday             Saturday  \n",
       "Average Casual         61.16  \n",
       "Average Registered    129.04  \n",
       "Average CNT           190.20  "
      ]
     },
     "execution_count": 111,
     "metadata": {},
     "output_type": "execute_result"
    }
   ],
   "source": [
    "import pandas as pd\n",
    "from pyspark.sql.functions import *\n",
    "\n",
    "group_df = df.select('weekday','casual','registered','cnt')\n",
    "group_df = group_df.groupBy('weekday').mean()\n",
    "group_df = group_df.select('weekday',\n",
    "                            format_number('avg(casual)',2),\n",
    "                            format_number('avg(registered)',2),\n",
    "                            format_number('avg(cnt)',2))\n",
    "group_df = group_df.select(col('weekday').alias('Weekday'),\n",
    "                           col('format_number(avg(casual), 2)').alias('Average Casual'),\n",
    "                           col('format_number(avg(registered), 2)').alias('Average Registered'),\n",
    "                           col('format_number(avg(cnt), 2)').alias('Average CNT')).orderBy('weekday')\n",
    "count_df = group_df.withColumn('Weekday', when(group_df.Weekday == 1, 'Monday')\n",
    "                               .otherwise(when(group_df.Weekday == 2, 'Tuesday')\n",
    "                               .otherwise(when(group_df.Weekday == 3, 'Wednesday')\n",
    "                               .otherwise(when(group_df.Weekday == 4, 'Thursday')\n",
    "                               .otherwise(when(group_df.Weekday == 5, 'Friday')\n",
    "                               .otherwise(when(group_df.Weekday == 6, 'Saturday')\n",
    "                               .otherwise(when(group_df.Weekday == 0, 'Sunday').otherwise('Unknown'))))))))\n",
    "pd.DataFrame(count_df.take(count_df.count()), columns=count_df.columns).transpose()"
   ]
  },
  {
   "cell_type": "code",
   "execution_count": 112,
   "metadata": {},
   "outputs": [
    {
     "data": {
      "image/png": "[encoded data removed]",
      "text/plain": [
       "<Figure size 720x360 with 1 Axes>"
      ]
     },
     "metadata": {},
     "output_type": "display_data"
    }
   ],
   "source": [
    "import matplotlib.pyplot as plt\n",
    "\n",
    "cnt_ind = [-1] * 7 # predefined 7 index as weekdays have 7 days\n",
    "reg_ind = [-1] * 7 # predefined 7 index as weekdays have 7 days\n",
    "cas_ind = [-1] * 7 # predefined 7 index as weekdays have 7 days\n",
    "\n",
    "x = 0\n",
    "for row in count_df.collect():\n",
    "    cas_ind[x] = float(row[1])\n",
    "    reg_ind[x] = float(row[2])\n",
    "    cnt_ind[x] = float(row[3])\n",
    "    x += 1\n",
    "\n",
    "group_df = count_df.toPandas()\n",
    "\n",
    "plt.plot(group_df['Weekday'], reg_ind, color='r')\n",
    "plt.plot(group_df['Weekday'], cas_ind, color='g')\n",
    "plt.plot(group_df['Weekday'], cnt_ind, color='b')\n",
    "\n",
    "plt.legend(['Avg Reg','Avg Cas','Avg CNT'])\n",
    "#plt.xlabel('weekly')\n",
    "plt.ylabel('counts')\n",
    "plt.title('weekly counts')\n",
    "plt.show()\n"
   ]
  },
  {
   "cell_type": "code",
   "execution_count": 101,
   "metadata": {},
   "outputs": [],
   "source": [
    "plt.rcParams['figure.figsize'] = (10,5)"
   ]
  },
  {
   "cell_type": "code",
   "execution_count": null,
   "metadata": {},
   "outputs": [],
   "source": []
  }
 ],
 "metadata": {
  "kernelspec": {
   "display_name": "Python 3",
   "language": "python",
   "name": "python3"
  },
  "language_info": {
   "codemirror_mode": {
    "name": "ipython",
    "version": 3
   },
   "file_extension": ".py",
   "mimetype": "text/x-python",
   "name": "python",
   "nbconvert_exporter": "python",
   "pygments_lexer": "ipython3",
   "version": "3.5.2"
  }
 },
 "nbformat": 4,
 "nbformat_minor": 2
}
