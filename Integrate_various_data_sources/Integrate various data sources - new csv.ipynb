{
 "cells": [
  {
   "cell_type": "code",
   "execution_count": 12,
   "metadata": {},
   "outputs": [],
   "source": [
    "import findspark\n",
    "findspark.init('/home/ubuntu/spark-2.1.1-bin-hadoop2.7')\n",
    "import pyspark\n",
    "from pyspark.sql import SparkSession\n",
    "spark = SparkSession.builder.appName('Integrate_various_data_sources_new_csv').getOrCreate()\n",
    "df = spark.read.csv('../Bike-Sharing-Dataset-hour.csv', header=True, inferSchema=True)\n",
    "\n",
    "df.createOrReplaceTempView(\"dataset\")\n",
    "#query the entire data in sequenced numbers\n",
    "df = spark.sql(\"SELECT * FROM dataset ORDER BY dteday, yr, hr \")"
   ]
  },
  {
   "cell_type": "code",
   "execution_count": 13,
   "metadata": {},
   "outputs": [],
   "source": [
    "#create a new index column and remove the instant\n",
    "#also, create a new CSV file with all data in sequence\n",
    "import csv\n",
    "x = 1 # index counter to replace column instant\n",
    "with open('../Bike-Sharing-Dataset-hour_new.csv','w') as csvfile: # create new csv file\n",
    "    fieldnames = ['reinstant', 'dteday', 'season', 'yr', 'mnth', 'hr', 'holiday', 'weekday', 'workingday', \n",
    "                  'weathersit', 'temp', 'atemp', 'hum', 'windspeed', 'casual', 'registered', 'cnt']\n",
    "    writer = csv.DictWriter(csvfile, fieldnames=fieldnames)\n",
    "    writer.writeheader()\n",
    "    \n",
    "    # for loop retrieve all resultsets and input to new csv file, except instant that is replaced by reinstant\n",
    "    for row in df.collect(): \n",
    "        writer.writerow({'reinstant':x, 'dteday':str(row[1]), 'season':str(row[2]), 'yr':str(row[3]), 'mnth':str(row[4]), \n",
    "                         'hr':str(row[5]), 'holiday':str(row[6]), 'weekday':str(row[7]), 'workingday':str(row[8]), \n",
    "                         'weathersit':str(row[9]), 'temp':str(row[10]), 'atemp':str(row[11]), 'hum':str(row[12]), \n",
    "                         'windspeed':str(row[13]), 'casual':str(row[14]), 'registered':str(row[15]), 'cnt':str(row[16])})\n",
    "        x += 1"
   ]
  },
  {
   "cell_type": "code",
   "execution_count": null,
   "metadata": {},
   "outputs": [],
   "source": []
  }
 ],
 "metadata": {
  "kernelspec": {
   "display_name": "Python 3",
   "language": "python",
   "name": "python3"
  },
  "language_info": {
   "codemirror_mode": {
    "name": "ipython",
    "version": 3
   },
   "file_extension": ".py",
   "mimetype": "text/x-python",
   "name": "python",
   "nbconvert_exporter": "python",
   "pygments_lexer": "ipython3",
   "version": "3.5.2"
  }
 },
 "nbformat": 4,
 "nbformat_minor": 2
}
